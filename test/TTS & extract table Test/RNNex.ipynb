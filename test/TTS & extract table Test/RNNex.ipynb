{
 "cells": [
  {
   "cell_type": "code",
   "execution_count": 20,
   "metadata": {},
   "outputs": [],
   "source": [
    "#캡스톤 5조 편복이들\n",
    "import tensorflow.compat.v1 as tf\n",
    "import numpy as np"
   ]
  },
  {
   "cell_type": "code",
   "execution_count": 24,
   "metadata": {},
   "outputs": [],
   "source": [
    "tf.disable_eager_execution()\n"
   ]
  },
  {
   "cell_type": "code",
   "execution_count": 2,
   "metadata": {},
   "outputs": [],
   "source": [
    "#알파벳 정보를 리스트에 저장\n",
    "char_arr=['a','b','c','d','e','f','g','h','i','j','k','l','m','n','o','p','q','r','s','t','u','v','w','x','y','z']"
   ]
  },
  {
   "cell_type": "code",
   "execution_count": 8,
   "metadata": {},
   "outputs": [],
   "source": [
    "#모든 알파벳에 리스트 인덱스를 붙여 저장\n",
    "num_dic={n: i for i, n in enumerate(char_arr)}\n",
    "dic_len=len(num_dic)"
   ]
  },
  {
   "cell_type": "code",
   "execution_count": 9,
   "metadata": {},
   "outputs": [],
   "source": [
    "#예시 단어 배열 저장\n",
    "seq_data=['such','case','dare','duel','late','carp','hall','java','fell','none','dark','doom','dark','dark','sqrt','them','them','here']"
   ]
  },
  {
   "cell_type": "code",
   "execution_count": 10,
   "metadata": {},
   "outputs": [],
   "source": [
    "def make_batch(seq_data):\n",
    "    input_batch=[]\n",
    "    target_batch=[]\n",
    "    for seq in seq_data:\n",
    "        #단어의 첫 세글자의 알파벳 리스트 인덱스 배열\n",
    "        input=[num_dic[n] for n in seq[:-1]]\n",
    "        #마지막 글자의 알파벳 리스트 인덱스 배열\n",
    "        target=num_dic[seq[-1]]\n",
    "        #입력값을 원-핫인코딩(문장의 토큰화) 방식으로 변환\n",
    "        input_batch.append(np.eye(dic_len)[input])\n",
    "        #출력값은 리스트 인덱스 그대로\n",
    "        target_batch.append(target)\n",
    "    return input_batch, target_batch"
   ]
  },
  {
   "cell_type": "code",
   "execution_count": 44,
   "metadata": {},
   "outputs": [],
   "source": [
    "#그래프 리셋 함수 호출\n",
    "tf.reset_default_graph()"
   ]
  },
  {
   "cell_type": "code",
   "execution_count": 45,
   "metadata": {},
   "outputs": [],
   "source": [
    "#모든 알파벳을 앞 3글자를 단계적으로 학슴\n",
    "X=tf.placeholder(tf.float32,[None,3,dic_len])\n",
    "#출력값은 리스트 인덱스 그대로\n",
    "Y=tf.placeholder(tf.int32,[None])"
   ]
  },
  {
   "cell_type": "code",
   "execution_count": 46,
   "metadata": {},
   "outputs": [],
   "source": [
    "#은닉층 생성\n",
    "w=tf.Variable(tf.random.normal([256, dic_len]))\n",
    "b=tf.Variable(tf.random.normal([dic_len]))"
   ]
  },
  {
   "cell_type": "code",
   "execution_count": 47,
   "metadata": {},
   "outputs": [],
   "source": [
    "#두개의 RNN셀 생성\n",
    "cell1=tf.nn.rnn_cell.BasicLSTMCell(256)\n"
   ]
  },
  {
   "cell_type": "code",
   "execution_count": 48,
   "metadata": {},
   "outputs": [],
   "source": [
    "cell1=tf.nn.rnn_cell.DropoutWrapper(cell1,output_keep_prob=0.7)"
   ]
  },
  {
   "cell_type": "code",
   "execution_count": 49,
   "metadata": {},
   "outputs": [],
   "source": [
    "cell2=tf.nn.rnn_cell.BasicLSTMCell(256)"
   ]
  },
  {
   "cell_type": "code",
   "execution_count": 50,
   "metadata": {},
   "outputs": [],
   "source": [
    "#두개의 셀을 조합하셔 심층 순환 신경망 구축\n",
    "multi_cell=tf.nn.rnn_cell.MultiRNNCell([cell1,cell2])\n",
    "outputs, states=tf.nn.dynamic_rnn(multi_cell,X,dtype=tf.float32)"
   ]
  },
  {
   "cell_type": "code",
   "execution_count": 51,
   "metadata": {},
   "outputs": [],
   "source": [
    "#최종 출력층 구축\n",
    "outputs=tf.transpose(outputs,[1,0,2])\n",
    "outputs=outputs[-1]\n",
    "model=tf.matmul(outputs,w)+b"
   ]
  },
  {
   "cell_type": "code",
   "execution_count": 52,
   "metadata": {},
   "outputs": [],
   "source": [
    "#비용 함수를 이용하여 최적화\n",
    "cost=tf.reduce_mean(tf.nn.sparse_softmax_cross_entropy_with_logits(logits=model,labels=Y))\n",
    "optimizer=tf.train.AdamOptimizer(0.01).minimize(cost)"
   ]
  },
  {
   "cell_type": "code",
   "execution_count": 53,
   "metadata": {},
   "outputs": [],
   "source": [
    "#세션 초기화\n",
    "sess=tf.Session()\n",
    "sess.run(tf.global_variables_initializer())"
   ]
  },
  {
   "cell_type": "code",
   "execution_count": 54,
   "metadata": {},
   "outputs": [],
   "source": [
    "#입력 값과 출력 값으로 단어 분리\n",
    "input_batch, target_batch=make_batch(seq_data)"
   ]
  },
  {
   "cell_type": "code",
   "execution_count": 55,
   "metadata": {},
   "outputs": [
    {
     "name": "stdout",
     "output_type": "stream",
     "text": [
      "반복: 0001 비용: 3.5063\n",
      "반복: 0002 비용: 1.9342\n",
      "반복: 0003 비용: 1.2521\n",
      "반복: 0004 비용: 2.5079\n",
      "반복: 0005 비용: 1.2218\n",
      "반복: 0006 비용: 0.5729\n",
      "반복: 0007 비용: 0.6011\n",
      "반복: 0008 비용: 0.3731\n",
      "반복: 0009 비용: 0.4389\n",
      "반복: 0010 비용: 0.3477\n",
      "반복: 0011 비용: 0.2493\n",
      "반복: 0012 비용: 0.2077\n",
      "반복: 0013 비용: 0.2115\n",
      "반복: 0014 비용: 0.2056\n",
      "반복: 0015 비용: 0.1563\n",
      "반복: 0016 비용: 0.1867\n",
      "반복: 0017 비용: 0.1771\n",
      "반복: 0018 비용: 0.1591\n",
      "반복: 0019 비용: 0.1420\n",
      "반복: 0020 비용: 0.1398\n",
      "반복: 0021 비용: 0.2160\n",
      "반복: 0022 비용: 0.1211\n",
      "반복: 0023 비용: 0.1146\n",
      "반복: 0024 비용: 0.1301\n",
      "반복: 0025 비용: 0.1595\n",
      "반복: 0026 비용: 0.1493\n",
      "반복: 0027 비용: 0.1288\n",
      "반복: 0028 비용: 0.1624\n",
      "반복: 0029 비용: 0.1388\n",
      "반복: 0030 비용: 0.1020\n",
      "반복: 0031 비용: 0.1694\n",
      "반복: 0032 비용: 0.0908\n",
      "반복: 0033 비용: 0.1012\n",
      "반복: 0034 비용: 0.1206\n",
      "반복: 0035 비용: 0.1892\n",
      "반복: 0036 비용: 0.2151\n",
      "반복: 0037 비용: 0.1573\n",
      "반복: 0038 비용: 0.1874\n",
      "반복: 0039 비용: 0.1176\n",
      "반복: 0040 비용: 0.1482\n",
      "반복: 0041 비용: 0.1225\n",
      "반복: 0042 비용: 0.1104\n",
      "반복: 0043 비용: 0.1300\n",
      "반복: 0044 비용: 0.1216\n",
      "반복: 0045 비용: 0.1108\n",
      "반복: 0046 비용: 0.0943\n",
      "반복: 0047 비용: 0.0897\n",
      "반복: 0048 비용: 0.0518\n",
      "반복: 0049 비용: 0.1644\n",
      "반복: 0050 비용: 0.0564\n",
      "반복: 0051 비용: 0.1465\n",
      "반복: 0052 비용: 0.2207\n",
      "반복: 0053 비용: 0.2803\n",
      "반복: 0054 비용: 0.2523\n",
      "반복: 0055 비용: 0.2129\n",
      "반복: 0056 비용: 0.2323\n",
      "반복: 0057 비용: 0.1767\n",
      "반복: 0058 비용: 0.1663\n",
      "반복: 0059 비용: 0.1517\n",
      "반복: 0060 비용: 0.1277\n",
      "반복: 0061 비용: 0.1369\n",
      "반복: 0062 비용: 0.1186\n",
      "반복: 0063 비용: 0.2211\n",
      "반복: 0064 비용: 0.1170\n",
      "반복: 0065 비용: 0.1134\n",
      "반복: 0066 비용: 0.1029\n",
      "반복: 0067 비용: 0.0931\n",
      "반복: 0068 비용: 0.1318\n",
      "반복: 0069 비용: 0.1108\n",
      "반복: 0070 비용: 0.1132\n",
      "반복: 0071 비용: 0.1368\n",
      "반복: 0072 비용: 0.1855\n",
      "반복: 0073 비용: 0.1273\n",
      "반복: 0074 비용: 0.1557\n",
      "반복: 0075 비용: 0.1485\n",
      "반복: 0076 비용: 0.1610\n",
      "반복: 0077 비용: 0.1753\n",
      "반복: 0078 비용: 0.1130\n",
      "반복: 0079 비용: 0.1599\n",
      "반복: 0080 비용: 0.1449\n",
      "반복: 0081 비용: 0.1223\n",
      "반복: 0082 비용: 0.1208\n",
      "반복: 0083 비용: 0.1015\n",
      "반복: 0084 비용: 0.1427\n",
      "반복: 0085 비용: 0.0965\n",
      "반복: 0086 비용: 0.1128\n",
      "반복: 0087 비용: 0.1800\n",
      "반복: 0088 비용: 0.1589\n",
      "반복: 0089 비용: 0.1620\n",
      "반복: 0090 비용: 0.1340\n",
      "반복: 0091 비용: 0.1358\n",
      "반복: 0092 비용: 0.1247\n",
      "반복: 0093 비용: 0.1989\n",
      "반복: 0094 비용: 0.1290\n",
      "반복: 0095 비용: 0.1366\n",
      "반복: 0096 비용: 0.1675\n",
      "반복: 0097 비용: 0.1188\n",
      "반복: 0098 비용: 0.1658\n",
      "반복: 0099 비용: 0.1923\n",
      "반복: 0100 비용: 0.1683\n",
      "학습 완료\n"
     ]
    }
   ],
   "source": [
    "#100번 반복하여 학습\n",
    "for epoch in range(100):\n",
    "    _, loss=sess.run([optimizer,cost],feed_dict={X: input_batch, Y: target_batch})\n",
    "    print('반복:','%04d' % (epoch+1),'비용:','{:.4f}'.format(loss))\n",
    "print('학습 완료')"
   ]
  },
  {
   "cell_type": "code",
   "execution_count": 57,
   "metadata": {},
   "outputs": [],
   "source": [
    "prediction=tf.cast(tf.argmax(model,1),tf.int32)"
   ]
  },
  {
   "cell_type": "code",
   "execution_count": 58,
   "metadata": {},
   "outputs": [],
   "source": [
    "prediction_check=tf.equal(prediction,Y)\n",
    "accuracy=tf.reduce_mean(tf.cast(prediction_check,tf.float32))"
   ]
  },
  {
   "cell_type": "code",
   "execution_count": 59,
   "metadata": {},
   "outputs": [],
   "source": [
    "#학습에 사용한 단어를 넣고 예측 모델 동작\n",
    "input_batch, target_batch=make_batch(seq_data)"
   ]
  },
  {
   "cell_type": "code",
   "execution_count": 61,
   "metadata": {},
   "outputs": [],
   "source": [
    "predict, accuracy_val=sess.run([prediction, accuracy],feed_dict={X: input_batch, Y: target_batch})"
   ]
  },
  {
   "cell_type": "code",
   "execution_count": 62,
   "metadata": {},
   "outputs": [],
   "source": [
    "predict_words=[]\n",
    "for index, value in enumerate(seq_data):\n",
    "    #예측 모델이 예측한 마지막 단어 저장\n",
    "    last_char=char_arr[predict[index]]\n",
    "    #기존의 앞 세 단어와 예측 단어를 합쳐서 출력\n",
    "    predict_words.append(value[:3]+last_char)"
   ]
  },
  {
   "cell_type": "code",
   "execution_count": 66,
   "metadata": {},
   "outputs": [
    {
     "name": "stdout",
     "output_type": "stream",
     "text": [
      "입력값: ['suc ', 'cas ', 'dar ', 'due ', 'lat ', 'car ', 'hal ', 'jav ', 'fel ', 'non ', 'dar ', 'doo ', 'dar ', 'dar ', 'sqr ', 'the ', 'the ', 'her ']\n",
      "예측값 ['such', 'case', 'dark', 'duel', 'late', 'carp', 'hall', 'java', 'fell', 'none', 'dark', 'doom', 'dark', 'dark', 'sqrt', 'them', 'them', 'here']\n",
      "정확도: 0.9444444\n"
     ]
    }
   ],
   "source": [
    "print('입력값:',[w[:3]+' ' for w in seq_data])\n",
    "print('예측값',predict_words)\n",
    "print('정확도:',accuracy_val)"
   ]
  },
  {
   "cell_type": "code",
   "execution_count": null,
   "metadata": {},
   "outputs": [],
   "source": []
  }
 ],
 "metadata": {
  "kernelspec": {
   "display_name": "Python 3",
   "language": "python",
   "name": "python3"
  },
  "language_info": {
   "codemirror_mode": {
    "name": "ipython",
    "version": 3
   },
   "file_extension": ".py",
   "mimetype": "text/x-python",
   "name": "python",
   "nbconvert_exporter": "python",
   "pygments_lexer": "ipython3",
   "version": "3.8.5"
  }
 },
 "nbformat": 4,
 "nbformat_minor": 4
}
