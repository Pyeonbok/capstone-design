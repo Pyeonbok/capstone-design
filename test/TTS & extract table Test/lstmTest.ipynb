{
 "cells": [
  {
   "cell_type": "markdown",
   "metadata": {},
   "source": [
    "1. pdf에서 문자추출을 어떻게 할 것인가?\n",
    "2. 추출한 문자에서 불필요한 요소들을 어떻게 추출할 것인가?\n",
    "3. LSTM 알고리즘과 작년ppt자료 예시를 활용해서 구현할 수 있지 않을까?\n"
   ]
  }
 ],
 "metadata": {
  "kernelspec": {
   "display_name": "Python 3",
   "language": "python",
   "name": "python3"
  },
  "language_info": {
   "codemirror_mode": {
    "name": "ipython",
    "version": 3
   },
   "file_extension": ".py",
   "mimetype": "text/x-python",
   "name": "python",
   "nbconvert_exporter": "python",
   "pygments_lexer": "ipython3",
   "version": "3.8.5"
  }
 },
 "nbformat": 4,
 "nbformat_minor": 4
}
